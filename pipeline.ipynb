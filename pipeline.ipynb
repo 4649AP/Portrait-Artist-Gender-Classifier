{
 "cells": [
  {
   "cell_type": "markdown",
   "metadata": {},
   "source": [
    "# Can Deep Learning Discern a Portrait Artist's Gender?"
   ]
  },
  {
   "cell_type": "markdown",
   "metadata": {},
   "source": [
    "## Introduction\n",
    "\n",
    "Anecdotally, certain artists throughout history have been vaunted for their feminine or masculine art styles, particularly when depicting human forms. Also, the recent popularity the subreddit [r/MenDrawingWomen](https://www.reddit.com/r/mendrawingwomen/) has highlighted some of the vulgar inaccuracies of some male artist's depictions of the female body. Realistically I do not think I am personally able to determine an artist's gender purely based on their art.\n",
    "\n",
    "But are there visual elements in portrait art contain sutble clues to an artist's gender? If so perhaps the rapidly evolving deep learning image classification models would be able to discern an artist's gender based on artwork alone."
   ]
  },
  {
   "cell_type": "markdown",
   "metadata": {},
   "source": [
    "## Aim\n",
    "Use state-of-the-art image classification techniques to analyse portraits across a diverse range of artists to classify artist's gender significantly better than in 50% of cases."
   ]
  },
  {
   "cell_type": "markdown",
   "metadata": {},
   "source": [
    "## Data Preparation\n",
    "Through research the [Kaggle Painter By Numbers](https://www.kaggle.com/c/painter-by-numbers) dataset was obtained. A subset of 3636 portraits (excluding self-portraits). To narrow the range of art styles, only portraits created year 1900 or later across a variety of styles were included. \n",
    "\n",
    "Each artist was manually referenced against Wikipedia data to determine their gender with males labelled '0' and females labelled '1'. Notably, only 400 of the 3636 portraits was by a female artist so class imbalance would need to be addressed.\n",
    "\n",
    "A 80% train / 20% validation split of the dataset was performed."
   ]
  },
  {
   "cell_type": "code",
   "execution_count": 1,
   "metadata": {},
   "outputs": [],
   "source": [
    "# General Imports\n",
    "import random\n",
    "import os\n",
    "import shutil\n",
    "import sys\n",
    "from IPython.display import Image\n",
    "random.seed(99)\n",
    "import pandas as pd\n",
    "\n",
    "# SKLearn Imports\n",
    "from sklearn.metrics import classification_report, confusion_matrix, roc_curve, auc\n",
    "from sklearn.utils import class_weight\n",
    "\n",
    "# Model Imports\n",
    "from tensorflow.keras import models\n",
    "from tensorflow.keras import layers\n",
    "from tensorflow.keras import optimizers\n",
    "import os\n",
    "import glob\n",
    "import shutil\n",
    "import sys\n",
    "import numpy as np\n",
    "from skimage.io import imread\n",
    "\n",
    "# Display Imports\n",
    "import matplotlib as mpl\n",
    "import matplotlib.pyplot as plt\n",
    "from IPython.display import Image\n",
    "%matplotlib inline\n",
    "from PIL import Image\n",
    "Image.MAX_IMAGE_PIXELS = None # https://pillow.readthedocs.io/en/5.1.x/releasenotes/5.0.0.html#decompression-bombs-now-raise-exceptions"
   ]
  },
  {
   "cell_type": "code",
   "execution_count": 2,
   "metadata": {},
   "outputs": [
    {
     "name": "stdout",
     "output_type": "stream",
     "text": [
      "femme_list: 400\n",
      "homme_list: 3236\n"
     ]
    }
   ],
   "source": [
    "# Data Preparation\n",
    "\n",
    "# Set Paths\n",
    "base_datapath = os.path.dirname(__file__)\n",
    "femme_path = os.path.join(base_datapath, '/femme/')\n",
    "homme_path = os.path.join(base_datapath, '/homme/')\n",
    "\n",
    "# Split images into folders by class\n",
    "# # https://pandas.pydata.org/pandas-docs/stable/reference/api/pandas.read_csv.html\n",
    "# raw_data = pd.read_csv('portrait_data1.csv', header=0)\n",
    "# data_ref = raw_data.fillna(0) # replace NaN with 0\n",
    "\n",
    "# # create folders of femme and homme images\n",
    "# for idx, row in raw_data.iterrows():\n",
    "#     if idx ==0:\n",
    "#         pass\n",
    "#     elif row[6] == 1.0: # copy femme art files to folder 'femme'\n",
    "#         if os.path.isfile(os.path.join(base_datapath,row[5])):\n",
    "#             shutil.copy(os.path.join(base_datapath,row[5]), os.path.join(femme_path,row[5]))\n",
    "#     else: # copy homme art files to folder 'homme'\n",
    "#         if os.path.isfile(os.path.join(base_datapath,row[5])):\n",
    "#             shutil.copy(os.path.join(base_datapath,row[5]), os.path.join(homme_path,row[5]))\n",
    "\n",
    "# Create Train + Validate Sets\n",
    "parent_datapath = os.path.join(base_datapath, '/data/')\n",
    "train_dir = os.path.join(base_datapath, '/data/train')\n",
    "valid_dir = os.path.join(base_datapath, '/data/valid')\n",
    "train_femme_dir = os.path.join(base_datapath, '/data/train/femme')\n",
    "train_homme_dir = os.path.join(base_datapath, '/data/train/homme')\n",
    "valid_femme_dir = os.path.join(base_datapath, '/data/valid/femme')\n",
    "valid_homme_dir = os.path.join(base_datapath, '/data/valid/homme')\n",
    "\n",
    "# # Copy first NUM_TRAIN//2 cat images to train_cats_dir\n",
    "# fnames = femme_list[:int((len(femme_list)*TRAIN_PCT))]\n",
    "# for fname in fnames:\n",
    "#     dst = os.path.join(train_femme_dir, os.path.basename(fname))\n",
    "#     shutil.copyfile(fname, dst)\n",
    "\n",
    "# # Copy first NUM_TRAIN//2 cat images to train_cats_dir\n",
    "# fnames = homme_list[:int((len(homme_list)*TRAIN_PCT))]\n",
    "# for fname in fnames:\n",
    "#     dst = os.path.join(train_homme_dir, os.path.basename(fname))\n",
    "#     shutil.copyfile(fname, dst)\n",
    "\n",
    "# # Copy first NUM_TRAIN//2 cat images to train_cats_dir\n",
    "# fnames = femme_list[int((len(femme_list)*TRAIN_PCT)):]\n",
    "# for fname in fnames:\n",
    "#     dst = os.path.join(valid_femme_dir, os.path.basename(fname))\n",
    "#     shutil.copyfile(fname, dst)\n",
    "\n",
    "# # Copy first NUM_TRAIN//2 cat images to train_cats_dir\n",
    "# fnames = homme_list[int((len(homme_list)*TRAIN_PCT)):]\n",
    "# for fname in fnames:\n",
    "#     dst = os.path.join(valid_homme_dir, os.path.basename(fname))\n",
    "#     shutil.copyfile(fname, dst)\n",
    "\n",
    "# https://docs.python.org/3/library/glob.html\n",
    "femme_list = glob.glob(os.path.join(femme_path,'*.jpg'))\n",
    "homme_list = glob.glob(os.path.join(homme_path,'*.jpg'))\n",
    "print('femme_list:',len(femme_list))\n",
    "print('homme_list:',len(homme_list))"
   ]
  },
  {
   "cell_type": "markdown",
   "metadata": {},
   "source": [
    "## Model Selection\n",
    "\n",
    "I reviewed the 2020 state-of-the-art image classifcation models for transfer learning/fine-tuning, noisy student and efficientnet models stood out as best performers on the imagenet benchmark.\n",
    "\n",
    "Looking over the noisy student paper, this model improved its initial model results with further unlabelled data, which I do not currently posses. Efficientnet was loosely based on resnet but less resource intensive without sacrificing performance. Thus, the simplest version efficientnet-b0 was chosen and [Chengwei Zhang's Keras-based efficientnet transfer learning notebook](https://github.com/Tony607/efficientnet_keras_transfer_learning/blob/master/Keras_efficientnet_transfer_learning.ipynb) used for reference.\n",
    "\n"
   ]
  },
  {
   "cell_type": "code",
   "execution_count": 3,
   "metadata": {},
   "outputs": [
    {
     "name": "stdout",
     "output_type": "stream",
     "text": [
      "/Users/ap/Documents/NFL Dynasty/artistgender/efficientnet_keras_transfer_learning\n"
     ]
    }
   ],
   "source": [
    "# !git clone https://github.com/Tony607/efficientnet_keras_transfer_learning\n",
    "%cd efficientnet_keras_transfer_learning/"
   ]
  },
  {
   "cell_type": "code",
   "execution_count": 4,
   "metadata": {},
   "outputs": [
    {
     "name": "stderr",
     "output_type": "stream",
     "text": [
      "Using TensorFlow backend.\n"
     ]
    }
   ],
   "source": [
    "# Imports and Model Parameters\n",
    "from efficientnet import EfficientNetB0 as Net\n",
    "from efficientnet import center_crop_and_resize, preprocess_input\n",
    "\n",
    "batch_size = 48\n",
    "\n",
    "width = 150\n",
    "height = 150\n",
    "epochs = 20\n",
    "TRAIN_PCT = 0.8\n",
    "dropout_rate = 0.2\n",
    "input_shape = (height, width, 3)"
   ]
  },
  {
   "cell_type": "code",
   "execution_count": 5,
   "metadata": {},
   "outputs": [
    {
     "name": "stdout",
     "output_type": "stream",
     "text": [
      "WARNING:tensorflow:From /Users/ap/Documents/NFL Dynasty/artistgender/efficientnet_keras_transfer_learning/efficientnet/model.py:67: The name tf.random_normal is deprecated. Please use tf.random.normal instead.\n",
      "\n",
      "WARNING:tensorflow:From /Users/ap/opt/anaconda3/envs/METRO/lib/python3.7/site-packages/tensorflow_core/python/ops/resource_variable_ops.py:1630: calling BaseResourceVariable.__init__ (from tensorflow.python.ops.resource_variable_ops) with constraint is deprecated and will be removed in a future version.\n",
      "Instructions for updating:\n",
      "If using Keras pass *_constraint arguments to layers.\n",
      "WARNING:tensorflow:From /Users/ap/opt/anaconda3/envs/METRO/lib/python3.7/site-packages/tensorflow_core/python/autograph/converters/directives.py:119: The name tf.random_uniform is deprecated. Please use tf.random.uniform instead.\n",
      "\n",
      "WARNING:tensorflow:From /Users/ap/Documents/NFL Dynasty/artistgender/efficientnet_keras_transfer_learning/efficientnet/layers.py:30: div (from tensorflow.python.ops.math_ops) is deprecated and will be removed in a future version.\n",
      "Instructions for updating:\n",
      "Deprecated in favor of operator or tf.math.divide.\n"
     ]
    }
   ],
   "source": [
    "# loading pretrained conv base model\n",
    "conv_base = Net(weights='imagenet', include_top=False, input_shape=input_shape)"
   ]
  },
  {
   "cell_type": "code",
   "execution_count": 6,
   "metadata": {},
   "outputs": [
    {
     "name": "stdout",
     "output_type": "stream",
     "text": [
      "Found 2908 images belonging to 2 classes.\n",
      "Found 728 images belonging to 2 classes.\n"
     ]
    }
   ],
   "source": [
    "from tensorflow.keras.preprocessing.image import ImageDataGenerator\n",
    "\n",
    "train_datagen = ImageDataGenerator(\n",
    "      rescale=1./255,\n",
    "      rotation_range=40,\n",
    "      width_shift_range=0.2,\n",
    "      height_shift_range=0.2,\n",
    "      shear_range=0.2,\n",
    "      zoom_range=0.2,\n",
    "      horizontal_flip=True,\n",
    "      fill_mode='nearest')\n",
    "\n",
    "# Note that the validation data should not be augmented!\n",
    "test_datagen = ImageDataGenerator(rescale=1./255)\n",
    "\n",
    "train_generator = train_datagen.flow_from_directory(\n",
    "        # This is the target directory\n",
    "        train_dir,\n",
    "        # All images will be resized to target height and width.\n",
    "        target_size=(height, width),\n",
    "        batch_size=batch_size,\n",
    "        # Since we use categorical_crossentropy loss, we need categorical labels\n",
    "        class_mode='categorical')\n",
    "\n",
    "validation_generator = test_datagen.flow_from_directory(\n",
    "        valid_dir,\n",
    "        target_size=(height, width),\n",
    "        batch_size=batch_size,\n",
    "        class_mode='categorical')\n",
    "\n",
    "NUM_TRAIN = 2908\n",
    "NUM_TEST = 728"
   ]
  },
  {
   "cell_type": "code",
   "execution_count": 7,
   "metadata": {},
   "outputs": [
    {
     "name": "stdout",
     "output_type": "stream",
     "text": [
      "Model: \"sequential\"\n",
      "_________________________________________________________________\n",
      "Layer (type)                 Output Shape              Param #   \n",
      "=================================================================\n",
      "efficientnet-b0 (Model)      (None, 5, 5, 1280)        4049564   \n",
      "_________________________________________________________________\n",
      "gap (GlobalMaxPooling2D)     (None, 1280)              0         \n",
      "_________________________________________________________________\n",
      "dropout_out (Dropout)        (None, 1280)              0         \n",
      "_________________________________________________________________\n",
      "fc_out (Dense)               (None, 2)                 2562      \n",
      "=================================================================\n",
      "Total params: 4,052,126\n",
      "Trainable params: 4,010,110\n",
      "Non-trainable params: 42,016\n",
      "_________________________________________________________________\n"
     ]
    }
   ],
   "source": [
    "model = models.Sequential()\n",
    "model.add(conv_base)\n",
    "model.add(layers.GlobalMaxPooling2D(name=\"gap\"))\n",
    "# model.add(layers.Flatten(name=\"flatten\"))\n",
    "if dropout_rate > 0:\n",
    "    model.add(layers.Dropout(dropout_rate, name=\"dropout_out\"))\n",
    "# model.add(layers.Dense(256, activation='relu', name=\"fc1\"))\n",
    "model.add(layers.Dense(2, activation='softmax', name=\"fc_out\"))\n",
    "model.summary()"
   ]
  },
  {
   "cell_type": "code",
   "execution_count": 8,
   "metadata": {},
   "outputs": [],
   "source": [
    "# Plot Accuracy & Loss function\n",
    "\n",
    "# https://www.tensorflow.org/tutorials/structured_data/imbalanced_data\n",
    "mpl.rcParams['figure.figsize'] = (12, 10)\n",
    "colors = plt.rcParams['axes.prop_cycle'].by_key()['color']\n",
    "\n",
    "def plot_metrics(history):\n",
    "  metrics =  ['loss', 'acc']\n",
    "  for n, metric in enumerate(metrics):\n",
    "    name = metric.replace(\"_\",\" \").capitalize()\n",
    "    plt.subplot(2,2,n+1)\n",
    "    plt.plot(history.epoch,  history.history[metric], color=colors[0], label='Train')\n",
    "    plt.plot(history.epoch, history.history['val_'+metric],\n",
    "             color=colors[0], linestyle=\"--\", label='Val')\n",
    "    plt.xlabel('Epoch')\n",
    "    plt.ylabel(name)\n",
    "    if metric == 'loss':\n",
    "      plt.ylim([0, plt.ylim()[1]])\n",
    "    elif metric == 'auc':\n",
    "      plt.ylim([0.8,1])\n",
    "    else:\n",
    "      plt.ylim([0,1])\n",
    "\n",
    "    plt.legend()\n"
   ]
  },
  {
   "cell_type": "markdown",
   "metadata": {},
   "source": [
    "### Baseline Model 0 with imbalanced data (no class weights)"
   ]
  },
  {
   "cell_type": "code",
   "execution_count": null,
   "metadata": {
    "scrolled": true
   },
   "outputs": [],
   "source": [
    "conv_base.trainable = False\n",
    "\n",
    "print('This is the number of trainable layers '\n",
    "      'after freezing the conv base:', len(model.trainable_weights))\n",
    "\n",
    "model.compile(loss='categorical_crossentropy',\n",
    "              optimizer=optimizers.RMSprop(lr=2e-5),\n",
    "              metrics=['acc','loss', 'auc', 'precision', 'recall']) # metrics=['acc']\n",
    "m0_history = model.fit_generator(\n",
    "      train_generator,\n",
    "      steps_per_epoch= NUM_TRAIN //batch_size,\n",
    "      epochs=epochs,\n",
    "      validation_data=validation_generator,\n",
    "      validation_steps= NUM_TEST //batch_size,\n",
    "      verbose=1,\n",
    "      use_multiprocessing=True,\n",
    "      workers=4)\n",
    "plot_metrics(m0_history)"
   ]
  },
  {
   "cell_type": "code",
   "execution_count": 12,
   "metadata": {},
   "outputs": [
    {
     "name": "stdout",
     "output_type": "stream",
     "text": [
      "Confusion Matrix\n",
      "[[ 61  19]\n",
      " [451 197]]\n"
     ]
    }
   ],
   "source": [
    "# Predict Validation Set and Generate Confusion Matrix\n",
    "# https://gist.github.com/RyanAkilos/3808c17f79e77c4117de35aa68447045\n",
    "Y_pred = model.predict_generator(validation_generator, NUM_TEST // batch_size+1)\n",
    "y_pred = np.argmax(Y_pred, axis=1)\n",
    "print('Confusion Matrix')\n",
    "print(confusion_matrix(validation_generator.classes, y_pred))"
   ]
  },
  {
   "cell_type": "code",
   "execution_count": 14,
   "metadata": {},
   "outputs": [
    {
     "data": {
      "image/png": "[encoded data removed]",
      "text/plain": [
       "<Figure size 864x720 with 1 Axes>"
      ]
     },
     "metadata": {
      "needs_background": "light"
     },
     "output_type": "display_data"
    }
   ],
   "source": [
    "# Generate ROC curve\n",
    "# https://www.dlology.com/blog/simple-guide-on-how-to-generate-roc-plot-for-keras-classifier/\n",
    "fpr_keras, tpr_keras, thresholds_keras = roc_curve(validation_generator.classes, y_pred)\n",
    "auc_keras = auc(fpr_keras, tpr_keras)\n",
    "\n",
    "plt.figure(1)\n",
    "plt.plot([0, 1], [0, 1], 'k--')\n",
    "plt.plot(fpr_keras, tpr_keras, label='Model 3 (area = {:.3f})'.format(auc_keras))\n",
    "plt.xlabel('False positive rate')\n",
    "plt.ylabel('True positive rate')\n",
    "plt.title('ROC curve')\n",
    "plt.legend(loc='best')\n",
    "plt.show()"
   ]
  },
  {
   "cell_type": "markdown",
   "metadata": {},
   "source": [
    "### Output - Baseline Model 0 with imbalanced data (no class weights)\n",
    "The confusion matrix suggests the model is overly incentivised to predict 'male' due the the data imbalance.\n",
    "\n",
    " #### Training Accuracy & Loss\n",
    " \n",
    "![model0_acc_loss](img/model0_acc_loss.png)\n",
    " \n",
    "#### Confusion Matrix\n",
    "\n",
    "[[ 3  77 ]\n",
    " \n",
    " [ 7 641 ]]\n",
    " \n",
    "#### ROC Curve\n",
    "![model0_roc_curve](img/model0_roc_curve.png)\n",
    "\n",
    "\n",
    " - Model is essentially predicting male artist almost everytime time"
   ]
  },
  {
   "cell_type": "markdown",
   "metadata": {},
   "source": [
    "### Model 1: Introducing Proportional Class Weights"
   ]
  },
  {
   "cell_type": "code",
   "execution_count": 10,
   "metadata": {},
   "outputs": [
    {
     "name": "stdout",
     "output_type": "stream",
     "text": [
      "class_weights: {0: 4.54375, 1: 0.5618238021638331}\n",
      "smoothed_class_weights: {0: 1, 1: 4.54375} (halved weighting)\n"
     ]
    }
   ],
   "source": [
    "# https://androidkt.com/set-class-weight-for-imbalance-dataset-in-keras/\n",
    "# https://www.tensorflow.org/tutorials/structured_data/imbalanced_data\n",
    "train_label_counts = np.zeros(320)\n",
    "train_label_counts = np.append(train_label_counts, np.ones(2588))\n",
    "\n",
    "class_weights = class_weight.compute_class_weight('balanced',\n",
    "                                                 [0,1],\n",
    "                                                 train_label_counts)\n",
    "class_weights = dict(enumerate(class_weights))\n",
    "class_weights\n",
    "\n",
    "# class_weights {0: 4.54375, 1: 0.5618238021638331}\n",
    "smoothed_class_weights= {0: 1, 1: 4.54375}\n",
    "print(\"class_weights:\",class_weights)\n",
    "print(\"smoothed_class_weights:\",smoothed_class_weights, \"(halved weighting)\")"
   ]
  },
  {
   "cell_type": "code",
   "execution_count": null,
   "metadata": {
    "scrolled": true
   },
   "outputs": [],
   "source": [
    "# Basline Model 1 with class weights\n",
    "\n",
    "conv_base.trainable = False\n",
    "\n",
    "print('This is the number of trainable layers '\n",
    "      'after freezing the conv base:', len(model.trainable_weights))\n",
    "\n",
    "model.compile(loss='categorical_crossentropy',\n",
    "              optimizer=optimizers.RMSprop(lr=2e-5),\n",
    "              metrics=['acc','AUC']) # metrics=['acc']\n",
    "\n",
    "m1_history = model.fit_generator(\n",
    "      train_generator,\n",
    "      steps_per_epoch= NUM_TRAIN //batch_size,\n",
    "      epochs=epochs,\n",
    "      class_weight=class_weights,\n",
    "      validation_data=validation_generator,\n",
    "      validation_steps= NUM_TEST //batch_size,\n",
    "      verbose=1,\n",
    "      use_multiprocessing=True,\n",
    "      workers=4)\n",
    "plot_metrics(m1_history)"
   ]
  },
  {
   "cell_type": "markdown",
   "metadata": {},
   "source": [
    "### Model 1 with class weights of proportional values\n",
    "The introduction of class weights that are proportional to the class imbalance modestly improve the number of correctly predicted female artists, but at the cost of a significant increase in misclassifed male artists. Consequently, the ROC curve demonstrates the area-under-curve is less than 0.5.\n",
    "\n",
    "#### Training Accuracy & Loss\n",
    " \n",
    "![model1_acc_loss](img/model1_acc_loss.png)\n",
    "\n",
    "#### Confusion Matrix\n",
    " \n",
    "[[ 27  53]\n",
    "\n",
    " [289 359]]\n",
    " \n",
    " #### ROC Curve\n",
    "![model1_roc_curve](img/model1_roc_curve.png)\n",
    "\n",
    " \n",
    " - Seems overly skewed towards female class, approx 25% accuracy"
   ]
  },
  {
   "cell_type": "markdown",
   "metadata": {},
   "source": [
    "### Model 2 - Finetune last few layers (with proportional class weights)"
   ]
  },
  {
   "cell_type": "code",
   "execution_count": null,
   "metadata": {
    "scrolled": true
   },
   "outputs": [],
   "source": [
    "# Model 2 - Finetune last few layers (with proportional class weights)\n",
    "\n",
    "# https://github.com/Tony607/efficientnet_keras_transfer_learning/blob/master/Keras_efficientnet_transfer_learning.ipynb\n",
    "# multiply_16\n",
    "# set 'multiply_16' and following layers trainable\n",
    "conv_base.trainable = True\n",
    "\n",
    "set_trainable = False\n",
    "for layer in conv_base.layers:\n",
    "    if layer.name == 'multiply_16':\n",
    "        set_trainable = True\n",
    "    if set_trainable:\n",
    "        layer.trainable = True\n",
    "    else:\n",
    "        layer.trainable = False\n",
    "        \n",
    "\n",
    "model.compile(loss='categorical_crossentropy',\n",
    "              optimizer=optimizers.RMSprop(lr=2e-5),\n",
    "              metrics=['acc','AUC']) # metrics=['acc']\n",
    "\n",
    "m2_history = model.fit_generator(\n",
    "      train_generator,\n",
    "      steps_per_epoch= NUM_TRAIN //batch_size,\n",
    "      epochs=epochs,\n",
    "      class_weight=class_weights,\n",
    "      validation_data=validation_generator,\n",
    "      validation_steps= NUM_TEST //batch_size,\n",
    "      verbose=1,\n",
    "      use_multiprocessing=True,\n",
    "      workers=4)\n",
    "plot_metrics(m2_history)"
   ]
  },
  {
   "cell_type": "markdown",
   "metadata": {},
   "source": [
    "### Output - Model 2 - Finetune last few layers (with proportional class weights)\n",
    "Configuring the model to fine-tune the final layers further increases the correctly classified female artists but the male classifications has worsened further. The ROC curve suggests model 2 outperforms model 1, but is still with and area-under-curve of 0.56 and not materially improved over random guessing.\n",
    "\n",
    "#### Training Accuracy & Loss\n",
    " \n",
    "![model2_acc_loss](img/model2_acc_loss.png)\n",
    "\n",
    "#### Confusion Matrix\n",
    "\n",
    "[[ 64  16]\n",
    "\n",
    " [436 212]]\n",
    " \n",
    "#### ROC Curve\n",
    "![model2_roc_curve](img/model2_roc_curve.png)"
   ]
  },
  {
   "cell_type": "markdown",
   "metadata": {},
   "source": [
    "### Model 3 - smoothed class weights without finetune"
   ]
  },
  {
   "cell_type": "code",
   "execution_count": 11,
   "metadata": {},
   "outputs": [
    {
     "name": "stdout",
     "output_type": "stream",
     "text": [
      "This is the number of trainable layers after freezing the conv base: 2\n",
      "Epoch 1/20\n",
      "59/60 [============================>.] - ETA: 1s - loss: 1.9417 - acc: 0.3766 - auc_2: 0.3414Epoch 1/20\n",
      "60/60 [==============================] - 126s 2s/step - loss: 1.9499 - acc: 0.3769 - auc_2: 0.3417 - val_loss: 2.0208 - val_acc: 0.2611 - val_auc_2: 0.2136\n",
      "Epoch 2/20\n",
      "59/60 [============================>.] - ETA: 1s - loss: 1.5929 - acc: 0.5199 - auc_2: 0.5250Epoch 1/20\n",
      "60/60 [==============================] - 125s 2s/step - loss: 1.5919 - acc: 0.5206 - auc_2: 0.5263 - val_loss: 1.6207 - val_acc: 0.3333 - val_auc_2: 0.2922\n",
      "Epoch 1/20Epoch 3/20\n",
      "59/60 [============================>.] - ETA: 1s - loss: 1.7837 - acc: 0.5377 - auc_2: 0.5515Epoch 1/20\n",
      "60/60 [==============================] - 127s 2s/step - loss: 1.7702 - acc: 0.5385 - auc_2: 0.5524 - val_loss: 1.6386 - val_acc: 0.3292 - val_auc_2: 0.2896\n",
      "Epoch 4/20\n",
      "59/60 [============================>.] - ETA: 1s - loss: 1.6812 - acc: 0.5217 - auc_2: 0.5388Epoch 1/20\n",
      "60/60 [==============================] - 125s 2s/step - loss: 1.6680 - acc: 0.5220 - auc_2: 0.5394 - val_loss: 1.6048 - val_acc: 0.3361 - val_auc_2: 0.2986\n",
      "Epoch 1/20\n",
      "Epoch 5/20\n",
      "59/60 [============================>.] - ETA: 1s - loss: 1.6048 - acc: 0.5501 - auc_2: 0.5735Epoch 1/20\n",
      "60/60 [==============================] - 125s 2s/step - loss: 1.6092 - acc: 0.5490 - auc_2: 0.5728 - val_loss: 1.5744 - val_acc: 0.3472 - val_auc_2: 0.3056\n",
      "Epoch 6/20\n",
      "59/60 [============================>.] - ETA: 1s - loss: 1.6111 - acc: 0.5501 - auc_2: 0.5693Epoch 1/20\n",
      "60/60 [==============================] - 127s 2s/step - loss: 1.6081 - acc: 0.5486 - auc_2: 0.5684 - val_loss: 1.5425 - val_acc: 0.3528 - val_auc_2: 0.3161\n",
      "Epoch 7/20\n",
      "59/60 [============================>.] - ETA: 1s - loss: 1.6268 - acc: 0.5519 - auc_2: 0.5762Epoch 1/20\n",
      "60/60 [==============================] - 126s 2s/step - loss: 1.6108 - acc: 0.5542 - auc_2: 0.5796 - val_loss: 1.4377 - val_acc: 0.3875 - val_auc_2: 0.3502\n",
      "Epoch 8/20\n",
      "59/60 [============================>.] - ETA: 1s - loss: 1.7547 - acc: 0.5509 - auc_2: 0.5640Epoch 1/20\n",
      "60/60 [==============================] - 126s 2s/step - loss: 1.7467 - acc: 0.5514 - auc_2: 0.5649 - val_loss: 1.4774 - val_acc: 0.3708 - val_auc_2: 0.3332\n",
      "Epoch 9/20\n",
      "59/60 [============================>.] - ETA: 1s - loss: 1.6290 - acc: 0.5665 - auc_2: 0.5920Epoch 1/20\n",
      "60/60 [==============================] - 125s 2s/step - loss: 1.6253 - acc: 0.5661 - auc_2: 0.5919 - val_loss: 1.5298 - val_acc: 0.3583 - val_auc_2: 0.3193\n",
      "\n",
      "Epoch 10/20\n",
      "59/60 [============================>.] - ETA: 1s - loss: 1.7137 - acc: 0.5345 - auc_2: 0.5552Epoch 1/20\n",
      "60/60 [==============================] - 121s 2s/step - loss: 1.7065 - acc: 0.5350 - auc_2: 0.5559 - val_loss: 1.4871 - val_acc: 0.3667 - val_auc_2: 0.3305\n",
      "\n",
      "Epoch 11/20\n",
      "59/60 [============================>.] - ETA: 1s - loss: 1.6856 - acc: 0.5661 - auc_2: 0.5812Epoch 1/20\n",
      "60/60 [==============================] - 112s 2s/step - loss: 1.6717 - acc: 0.5661 - auc_2: 0.5815 - val_loss: 1.5338 - val_acc: 0.3542 - val_auc_2: 0.3162\n",
      "Epoch 12/20\n",
      "59/60 [============================>.] - ETA: 1s - loss: 1.6318 - acc: 0.5356 - auc_2: 0.5550Epoch 1/20\n",
      "60/60 [==============================] - 110s 2s/step - loss: 1.6191 - acc: 0.5360 - auc_2: 0.5562 - val_loss: 1.4707 - val_acc: 0.3681 - val_auc_2: 0.3367\n",
      "Epoch 13/20\n",
      "59/60 [============================>.] - ETA: 1s - loss: 1.6590 - acc: 0.5391 - auc_2: 0.5613Epoch 1/20\n",
      "60/60 [==============================] - 112s 2s/step - loss: 1.6507 - acc: 0.5402 - auc_2: 0.5621 - val_loss: 1.5704 - val_acc: 0.3444 - val_auc_2: 0.3063\n",
      "Epoch 14/20\n",
      "59/60 [============================>.] - ETA: 1s - loss: 1.6056 - acc: 0.5494 - auc_2: 0.5677Epoch 1/20\n",
      "60/60 [==============================] - 112s 2s/step - loss: 1.6193 - acc: 0.5486 - auc_2: 0.5664 - val_loss: 1.5665 - val_acc: 0.3472 - val_auc_2: 0.3061\n",
      "Epoch 15/20\n",
      "59/60 [============================>.] - ETA: 1s - loss: 1.5984 - acc: 0.5605 - auc_2: 0.5772Epoch 1/20\n",
      "60/60 [==============================] - 112s 2s/step - loss: 1.5846 - acc: 0.5619 - auc_2: 0.5793 - val_loss: 1.4749 - val_acc: 0.3681 - val_auc_2: 0.3338\n",
      "Epoch 1/20\n",
      "Epoch 16/20\n",
      "59/60 [============================>.] - ETA: 1s - loss: 1.7617 - acc: 0.5306 - auc_2: 0.5439Epoch 1/20\n",
      "60/60 [==============================] - 111s 2s/step - loss: 1.7657 - acc: 0.5308 - auc_2: 0.5439 - val_loss: 1.6132 - val_acc: 0.3361 - val_auc_2: 0.2934\n",
      "Epoch 1/20\n",
      "Epoch 17/20\n",
      "59/60 [============================>.] - ETA: 1s - loss: 1.5984 - acc: 0.5423 - auc_2: 0.5610Epoch 1/20\n",
      "60/60 [==============================] - 112s 2s/step - loss: 1.6280 - acc: 0.5416 - auc_2: 0.5611 - val_loss: 1.4259 - val_acc: 0.3764 - val_auc_2: 0.3492\n",
      "Epoch 1/20Epoch 18/20\n",
      "59/60 [============================>.] - ETA: 1s - loss: 1.6808 - acc: 0.5459 - auc_2: 0.5597Epoch 1/20\n",
      "60/60 [==============================] - 114s 2s/step - loss: 1.6952 - acc: 0.5462 - auc_2: 0.5596 - val_loss: 1.5221 - val_acc: 0.3556 - val_auc_2: 0.3180\n",
      "Epoch 19/20\n",
      "59/60 [============================>.] - ETA: 1s - loss: 1.6185 - acc: 0.5512 - auc_2: 0.5674Epoch 1/20\n",
      "60/60 [==============================] - 117s 2s/step - loss: 1.6189 - acc: 0.5504 - auc_2: 0.5662 - val_loss: 1.5425 - val_acc: 0.3486 - val_auc_2: 0.3117\n",
      "Epoch 1/20\n",
      "Epoch 20/20\n",
      "59/60 [============================>.] - ETA: 1s - loss: 1.5888 - acc: 0.5350 - auc_2: 0.5555Epoch 1/20\n",
      "60/60 [==============================] - 116s 2s/step - loss: 1.5785 - acc: 0.5354 - auc_2: 0.5549 - val_loss: 1.4281 - val_acc: 0.3694 - val_auc_2: 0.3478\n"
     ]
    },
    {
     "data": {
      "image/png": "[encoded data removed]",
      "text/plain": [
       "<Figure size 864x720 with 2 Axes>"
      ]
     },
     "metadata": {
      "needs_background": "light"
     },
     "output_type": "display_data"
    }
   ],
   "source": [
    "# Model 3 - smoothed class weights (without finetune)\n",
    "\n",
    "conv_base.trainable = False\n",
    "\n",
    "print('This is the number of trainable layers '\n",
    "      'after freezing the conv base:', len(model.trainable_weights))\n",
    "\n",
    "model.compile(loss='categorical_crossentropy',\n",
    "              optimizer=optimizers.RMSprop(lr=2e-5),\n",
    "              metrics=['acc','AUC']) # metrics=['acc']\n",
    "\n",
    "m3_history = model.fit_generator(\n",
    "      train_generator,\n",
    "      steps_per_epoch= NUM_TRAIN //batch_size,\n",
    "      epochs=epochs,\n",
    "      class_weight=class_weights,\n",
    "      validation_data=validation_generator,\n",
    "      validation_steps= NUM_TEST //batch_size,\n",
    "      verbose=1,\n",
    "      use_multiprocessing=True,\n",
    "      workers=4)\n",
    "plot_metrics(m3_history)"
   ]
  },
  {
   "cell_type": "markdown",
   "metadata": {},
   "source": [
    "### Output - Model 3 - smoothed class weights without finetune\n",
    "Given model 2's extreme focus on correctly predicting female artists, I thought to halve the female class weight and remove finetuning to see if the improvement in male artist prediction would generally improve the model. However, as the ROC curve shows, it sacrificed the female predictive ability more than it benefited male prediction to reuslt in an area-under-curve of just 0.533.\n",
    "#### Training Accuracy & Loss\n",
    " \n",
    "![model3_acc_loss](img/model3_acc_loss.png)\n",
    "\n",
    "#### Confusion Matrix\n",
    "\n",
    "[[ 61  19]\n",
    "\n",
    " [451 197]]\n",
    "\n",
    " \n",
    " #### ROC Curve\n",
    "![model3_roc_curve](img/model3_roc_curve.png)"
   ]
  },
  {
   "cell_type": "markdown",
   "metadata": {},
   "source": [
    "### Model 4 - smoothed class weights with finetune"
   ]
  },
  {
   "cell_type": "code",
   "execution_count": null,
   "metadata": {},
   "outputs": [],
   "source": [
    "# Model 4 - smoothed class weights (WITH finetune)\n",
    "\n",
    "# https://github.com/Tony607/efficientnet_keras_transfer_learning/blob/master/Keras_efficientnet_transfer_learning.ipynb\n",
    "# multiply_16\n",
    "# set 'multiply_16' and following layers trainable\n",
    "conv_base.trainable = True\n",
    "\n",
    "set_trainable = False\n",
    "for layer in conv_base.layers:\n",
    "    if layer.name == 'multiply_16':\n",
    "        set_trainable = True\n",
    "    if set_trainable:\n",
    "        layer.trainable = True\n",
    "    else:\n",
    "        layer.trainable = False\n",
    "\n",
    "model.compile(loss='categorical_crossentropy',\n",
    "              optimizer=optimizers.RMSprop(lr=2e-5),\n",
    "              metrics=['acc','AUC']) # metrics=['acc']\n",
    "\n",
    "m4_history = model.fit_generator(\n",
    "      train_generator,\n",
    "      steps_per_epoch= NUM_TRAIN //batch_size,\n",
    "      epochs=epochs,\n",
    "      class_weight=smoothed_class_weights,\n",
    "      validation_data=validation_generator,\n",
    "      validation_steps= NUM_TEST //batch_size,\n",
    "      verbose=1,\n",
    "      use_multiprocessing=True,\n",
    "      workers=4)\n",
    "plot_metrics(m4_history)"
   ]
  },
  {
   "cell_type": "markdown",
   "metadata": {},
   "source": [
    "### Output - Model 4 - smoothed class weights (WITH finetune)\n",
    "For the sake of comparision, model 4 maintained the halved class weights of model 3 but included finetuning. Unfortunately this reverted the model to overly focusing on predicting male artists correctly and the area-under-curve remained low at 0.515.\n",
    "\n",
    "#### Training Accuracy & Loss\n",
    " \n",
    "![model4_acc_loss](img/model4_acc_loss.png)\n",
    "\n",
    "\n",
    "#### Confusion Matrix\n",
    " \n",
    "[[  9  71]\n",
    "\n",
    " [ 53 595]]\n",
    " \n",
    "#### ROC Curve\n",
    "![model4_roc_curve](img/model4_roc_curve.png)"
   ]
  },
  {
   "cell_type": "markdown",
   "metadata": {},
   "source": [
    "## Conclusion\n",
    "After implementing proportional class weights to overcome class imbalance and fine-tuning the base model, there was not significant improvement in predictive performance. There is no suggestion in this simple exploration that state-of-the-art image classification models are able to discern a portrait artist's gender above a baseline of 50%."
   ]
  },
  {
   "cell_type": "markdown",
   "metadata": {},
   "source": [
    "## Future Work\n",
    "Perhaps by narrowing the range of styles in the dataset to simpler brush stroke art, such as monochrome manga or webcomics, there may be some improvements to performance and this may be explored in further work.\n",
    "\n",
    "Also, it would be beneficial to source an independent test set for better model comparision."
   ]
  }
 ],
 "metadata": {
  "kernelspec": {
   "display_name": "METRO",
   "language": "python",
   "name": "metro"
  },
  "language_info": {
   "codemirror_mode": {
    "name": "ipython",
    "version": 3
   },
   "file_extension": ".py",
   "mimetype": "text/x-python",
   "name": "python",
   "nbconvert_exporter": "python",
   "pygments_lexer": "ipython3",
   "version": "3.7.5"
  }
 },
 "nbformat": 4,
 "nbformat_minor": 2
}
